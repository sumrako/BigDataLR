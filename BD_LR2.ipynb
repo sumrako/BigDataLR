{
 "cells": [
  {
   "cell_type": "code",
   "execution_count": 22,
   "id": "cfeaf27a-d4cb-41c9-b553-bc394fcf0a5c",
   "metadata": {},
   "outputs": [],
   "source": [
    "import pyspark\n",
    "import os\n",
    "\n",
    "from datetime import datetime\n",
    "from pyspark.sql.functions import col\n",
    "from pyspark.sql import SparkSession\n",
    "from pyspark import SparkContext, SparkConf\n",
    "from pyspark.sql.types import StructType, StructField, StringType, DateType"
   ]
  },
  {
   "cell_type": "code",
   "execution_count": 23,
   "id": "4d12e0c5-ab1b-495d-81ae-c0459b4daeba",
   "metadata": {},
   "outputs": [
    {
     "data": {
      "text/html": [
       "\n",
       "            <div>\n",
       "                <p><b>SparkSession - in-memory</b></p>\n",
       "                \n",
       "        <div>\n",
       "            <p><b>SparkContext</b></p>\n",
       "\n",
       "            <p><a href=\"http://n1.maapr.xyz:4051\">Spark UI</a></p>\n",
       "\n",
       "            <dl>\n",
       "              <dt>Version</dt>\n",
       "                <dd><code>v3.1.2.0-eep-800</code></dd>\n",
       "              <dt>Master</dt>\n",
       "                <dd><code>local[*]</code></dd>\n",
       "              <dt>AppName</dt>\n",
       "                <dd><code>L2</code></dd>\n",
       "            </dl>\n",
       "        </div>\n",
       "        \n",
       "            </div>\n",
       "        "
      ],
      "text/plain": [
       "<pyspark.sql.session.SparkSession at 0x7f17d168a910>"
      ]
     },
     "execution_count": 23,
     "metadata": {},
     "output_type": "execute_result"
    }
   ],
   "source": [
    "os.environ['PYSPARK_SUBMIT_ARGS'] = '--packages com.databricks:spark-xml_2.12:0.13.0 pyspark-shell'\n",
    "sc = SparkSession.builder.appName(\"L2\").master(\"local[*]\").getOrCreate()\n",
    "sc"
   ]
  },
  {
   "cell_type": "code",
   "execution_count": 25,
   "id": "a3787fa2-017b-47f7-895d-d810b8be06e6",
   "metadata": {},
   "outputs": [],
   "source": [
    "!hadoop fs -put datasets/programming-languages.csv data/programming-languages.csv"
   ]
  },
  {
   "cell_type": "code",
   "execution_count": 27,
   "id": "67639bfe-18cb-4e8b-b9a6-9a5efcd9c480",
   "metadata": {},
   "outputs": [],
   "source": [
    "pro_lang = sc.read.csv(\"data/programming-languages.csv\")"
   ]
  },
  {
   "cell_type": "code",
   "execution_count": 28,
   "id": "ebb0ade9-e444-44f0-bec6-0bf1ba731dcd",
   "metadata": {},
   "outputs": [],
   "source": [
    "pro_lang_list = [str(x[0]) for x in pro_lang.collect()]"
   ]
  },
  {
   "cell_type": "code",
   "execution_count": 29,
   "id": "c618c3ce-6329-476e-ada7-46a63702c90c",
   "metadata": {},
   "outputs": [
    {
     "data": {
      "text/plain": [
       "['name',\n",
       " 'A# .NET',\n",
       " 'A# (Axiom)',\n",
       " 'A-0 System',\n",
       " 'A+',\n",
       " 'A++',\n",
       " 'ABAP',\n",
       " 'ABC',\n",
       " 'ABC ALGOL',\n",
       " 'ABSET']"
      ]
     },
     "execution_count": 29,
     "metadata": {},
     "output_type": "execute_result"
    }
   ],
   "source": [
    "pro_lang_list[:10]"
   ]
  },
  {
   "cell_type": "code",
   "execution_count": 33,
   "id": "446b9b83-24ef-4785-a81d-e33b866898d7",
   "metadata": {},
   "outputs": [],
   "source": [
    "!hadoop fs -put datasets/posts_sample.xml data/posts_sample.xml"
   ]
  },
  {
   "cell_type": "code",
   "execution_count": 35,
   "id": "d6c5f694-3173-4562-b71e-6beecac21c1e",
   "metadata": {},
   "outputs": [],
   "source": [
    "posts_sample = sc.read.format(\"xml\").options(rowTag=\"row\").load('data/posts_sample.xml')"
   ]
  },
  {
   "cell_type": "code",
   "execution_count": 36,
   "id": "d7bc4370-3fab-4a94-9977-057eecefb523",
   "metadata": {},
   "outputs": [
    {
     "data": {
      "text/plain": [
       "[Row(_AcceptedAnswerId=7, _AnswerCount=13, _Body=\"<p>I want to use a track-bar to change a form's opacity.</p>\\n\\n<p>This is my code:</p>\\n\\n<pre><code>decimal trans = trackBar1.Value / 5000;\\nthis.Opacity = trans;\\n</code></pre>\\n\\n<p>When I build the application, it gives the following error:</p>\\n\\n<blockquote>\\n  <p>Cannot implicitly convert type <code>'decimal'</code> to <code>'double'</code></p>\\n</blockquote>\\n\\n<p>I tried using <code>trans</code> and <code>double</code> but then the control doesn't work. This code worked fine in a past VB.NET project.</p>\\n\", _ClosedDate=None, _CommentCount=2, _CommunityOwnedDate=datetime.datetime(2012, 10, 31, 20, 42, 47, 213000), _CreationDate=datetime.datetime(2008, 8, 1, 2, 42, 52, 667000), _FavoriteCount=48, _Id=4, _LastActivityDate=datetime.datetime(2019, 7, 19, 5, 39, 54, 173000), _LastEditDate=datetime.datetime(2019, 7, 19, 5, 39, 54, 173000), _LastEditorDisplayName='Rich B', _LastEditorUserId=3641067, _OwnerDisplayName=None, _OwnerUserId=8, _ParentId=None, _PostTypeId=1, _Score=630, _Tags='<c#><floating-point><type-conversion><double><decimal>', _Title='Convert Decimal to Double?', _ViewCount=42817)]"
      ]
     },
     "execution_count": 36,
     "metadata": {},
     "output_type": "execute_result"
    }
   ],
   "source": [
    "posts_sample.take(1)"
   ]
  },
  {
   "cell_type": "markdown",
   "id": "95f57b3f-d62d-45d8-ae8b-da7a74f8fbca",
   "metadata": {},
   "source": [
    "Функция language_detection() приводит весь текст к нижнему регистру и исследует каждую строку на наличие названия языка программирования. Если язык обнаружен, создается кортеж с информацией о нем, в противном случае возвращается значение None. Функция check_date() выполняет проверку даты, поскольку требуется оценить промежуток времени от 2010 до 2020."
   ]
  },
  {
   "cell_type": "code",
   "execution_count": 37,
   "id": "8bd00aa0-8243-4d73-872a-9a7a9e166929",
   "metadata": {},
   "outputs": [],
   "source": [
    "def language_detection(x):\n",
    "    tag = None\n",
    "    for language in pro_lang_list:\n",
    "        if \"<\" + language.lower() + \">\" in x._Tags.lower():\n",
    "            tag = language\n",
    "            break\n",
    "    if tag is None:\n",
    "        return None\n",
    "    return (x._Id, tag)\n",
    "\n",
    "\n",
    "def check_date(x, year): \n",
    "    start = datetime(year=year, month=1, day=1)\n",
    "    end = datetime(year=year, month=12, day=31)\n",
    "    CreationDate = x._CreationDate\n",
    "    return CreationDate >= start and CreationDate <= end"
   ]
  },
  {
   "cell_type": "markdown",
   "id": "06c6b211-ac16-48d5-9ff5-b48e5cd0f439",
   "metadata": {},
   "source": [
    "Этот участок кода фильтрует строки, исключая пустые значения, и выбирает временной интервал с 2010 по 2019 год. Затем производится поиск языков программирования в каждой строке и удаляются пустые значения. В случае, если язык не обнаружен, он исключается из анализа. Далее подсчитывается количество упоминаний каждого языка программирования в каждом году и происходит сортировка по частоте упоминаний. Результат сортируется от наиболее часто упоминаемого к наименее."
   ]
  },
  {
   "cell_type": "code",
   "execution_count": 38,
   "id": "6a2440c0-8108-4053-be9c-e47c6e72660e",
   "metadata": {},
   "outputs": [
    {
     "name": "stdout",
     "output_type": "stream",
     "text": [
      "+--------------------+--------------------------+\n",
      "|Programming_language|Number_of_mentions_in_2010|\n",
      "+--------------------+--------------------------+\n",
      "|                Java|                        52|\n",
      "|          JavaScript|                        44|\n",
      "|                 PHP|                        42|\n",
      "|              Python|                        25|\n",
      "|         Objective-C|                        22|\n",
      "|                   C|                        20|\n",
      "|                Ruby|                        11|\n",
      "|              Delphi|                         7|\n",
      "|         AppleScript|                         3|\n",
      "|                   R|                         3|\n",
      "+--------------------+--------------------------+\n",
      "\n",
      "+--------------------+--------------------------+\n",
      "|Programming_language|Number_of_mentions_in_2011|\n",
      "+--------------------+--------------------------+\n",
      "|                 PHP|                        97|\n",
      "|                Java|                        92|\n",
      "|          JavaScript|                        82|\n",
      "|              Python|                        35|\n",
      "|         Objective-C|                        33|\n",
      "|                   C|                        24|\n",
      "|                Ruby|                        17|\n",
      "|                Perl|                         8|\n",
      "|              Delphi|                         8|\n",
      "|                Bash|                         7|\n",
      "+--------------------+--------------------------+\n",
      "\n",
      "+--------------------+--------------------------+\n",
      "|Programming_language|Number_of_mentions_in_2012|\n",
      "+--------------------+--------------------------+\n",
      "|                 PHP|                       136|\n",
      "|          JavaScript|                       129|\n",
      "|                Java|                       124|\n",
      "|              Python|                        65|\n",
      "|         Objective-C|                        45|\n",
      "|                   C|                        27|\n",
      "|                Ruby|                        25|\n",
      "|                Bash|                         9|\n",
      "|                   R|                         9|\n",
      "|              MATLAB|                         6|\n",
      "+--------------------+--------------------------+\n",
      "\n",
      "+--------------------+--------------------------+\n",
      "|Programming_language|Number_of_mentions_in_2013|\n",
      "+--------------------+--------------------------+\n",
      "|          JavaScript|                       196|\n",
      "|                Java|                       191|\n",
      "|                 PHP|                       173|\n",
      "|              Python|                        87|\n",
      "|         Objective-C|                        40|\n",
      "|                   C|                        36|\n",
      "|                Ruby|                        30|\n",
      "|                   R|                        25|\n",
      "|                Bash|                        11|\n",
      "|               Scala|                        10|\n",
      "+--------------------+--------------------------+\n",
      "\n",
      "+--------------------+--------------------------+\n",
      "|Programming_language|Number_of_mentions_in_2014|\n",
      "+--------------------+--------------------------+\n",
      "|          JavaScript|                       235|\n",
      "|                Java|                       228|\n",
      "|                 PHP|                       154|\n",
      "|              Python|                       103|\n",
      "|                   C|                        52|\n",
      "|         Objective-C|                        49|\n",
      "|                   R|                        28|\n",
      "|                Ruby|                        20|\n",
      "|              MATLAB|                        16|\n",
      "|                Bash|                        13|\n",
      "+--------------------+--------------------------+\n",
      "\n",
      "+--------------------+--------------------------+\n",
      "|Programming_language|Number_of_mentions_in_2015|\n",
      "+--------------------+--------------------------+\n",
      "|          JavaScript|                       268|\n",
      "|                Java|                       208|\n",
      "|                 PHP|                       147|\n",
      "|              Python|                       119|\n",
      "|                   R|                        43|\n",
      "|                   C|                        38|\n",
      "|         Objective-C|                        30|\n",
      "|                Ruby|                        20|\n",
      "|              MATLAB|                        16|\n",
      "|               Scala|                        13|\n",
      "+--------------------+--------------------------+\n",
      "\n",
      "+--------------------+--------------------------+\n",
      "|Programming_language|Number_of_mentions_in_2016|\n",
      "+--------------------+--------------------------+\n",
      "|          JavaScript|                       271|\n",
      "|                Java|                       178|\n",
      "|              Python|                       140|\n",
      "|                 PHP|                       126|\n",
      "|                   R|                        50|\n",
      "|                   C|                        32|\n",
      "|                Ruby|                        21|\n",
      "|                Bash|                        16|\n",
      "|               Scala|                        16|\n",
      "|              MATLAB|                        15|\n",
      "+--------------------+--------------------------+\n",
      "\n",
      "+--------------------+--------------------------+\n",
      "|Programming_language|Number_of_mentions_in_2017|\n",
      "+--------------------+--------------------------+\n",
      "|          JavaScript|                       244|\n",
      "|                Java|                       204|\n",
      "|              Python|                       185|\n",
      "|                 PHP|                       122|\n",
      "|                   R|                        53|\n",
      "|                   C|                        24|\n",
      "|         Objective-C|                        19|\n",
      "|                Ruby|                        16|\n",
      "|          PowerShell|                        14|\n",
      "|          TypeScript|                        14|\n",
      "+--------------------+--------------------------+\n",
      "\n",
      "+--------------------+--------------------------+\n",
      "|Programming_language|Number_of_mentions_in_2018|\n",
      "+--------------------+--------------------------+\n",
      "|              Python|                       214|\n",
      "|          JavaScript|                       194|\n",
      "|                Java|                       145|\n",
      "|                 PHP|                        99|\n",
      "|                   R|                        63|\n",
      "|                   C|                        24|\n",
      "|               Scala|                        22|\n",
      "|          TypeScript|                        21|\n",
      "|          PowerShell|                        13|\n",
      "|                Bash|                        12|\n",
      "+--------------------+--------------------------+\n",
      "\n",
      "+--------------------+--------------------------+\n",
      "|Programming_language|Number_of_mentions_in_2019|\n",
      "+--------------------+--------------------------+\n",
      "|              Python|                       162|\n",
      "|          JavaScript|                       131|\n",
      "|                Java|                        95|\n",
      "|                 PHP|                        59|\n",
      "|                   R|                        36|\n",
      "|                   C|                        14|\n",
      "|              MATLAB|                         9|\n",
      "|                  Go|                         9|\n",
      "|              Kotlin|                         9|\n",
      "|                Dart|                         9|\n",
      "+--------------------+--------------------------+\n",
      "\n"
     ]
    }
   ],
   "source": [
    "final_result = {}\n",
    "for year in range(2010, 2020):\n",
    "    final_result[year] = posts_sample.rdd.filter(\n",
    "        lambda x: x._Tags is not None and check_date(x, year)\n",
    "    ).map(\n",
    "        language_detection\n",
    "    ).filter(\n",
    "        lambda x: x is not None\n",
    "    ).keyBy(\n",
    "        lambda x: x[1]\n",
    "    ).aggregateByKey(\n",
    "        0,\n",
    "        lambda x, y: x + 1,\n",
    "        lambda x1, x2: x1 + x2\n",
    "    ).sortBy(lambda x: x[1], ascending=False).toDF()\n",
    "    final_result[year] = final_result[year].select(\n",
    "        col(\"_1\").alias(\"Programming_language\"), \n",
    "        col(\"_2\").alias(f\"Number_of_mentions_in_{year}\")\n",
    "    ).limit(10)\n",
    "    final_result[year].show()"
   ]
  },
  {
   "cell_type": "code",
   "execution_count": 39,
   "id": "cf87e915-05d5-492f-b133-7db3de258515",
   "metadata": {},
   "outputs": [],
   "source": [
    "for year in final_result.keys():\n",
    "    final_result[year].write.format(\"parquet\").save(f\"top_{year}\")"
   ]
  },
  {
   "cell_type": "code",
   "execution_count": 41,
   "id": "91605d87-d09f-465a-881e-0968171fe69b",
   "metadata": {},
   "outputs": [
    {
     "name": "stdout",
     "output_type": "stream",
     "text": [
      "Found 2 items\n",
      "-rwxr-xr-x   3 sumrako sumrako          0 2023-12-19 12:20 top_2019/_SUCCESS\n",
      "-rwxr-xr-x   3 sumrako sumrako        885 2023-12-19 12:20 top_2019/part-00000-74e3cd30-a1d1-44a9-9391-9f3ab114485e-c000.snappy.parquet\n"
     ]
    }
   ],
   "source": [
    "!hadoop fs -ls top_2019"
   ]
  },
  {
   "cell_type": "code",
   "execution_count": 7,
   "id": "a8f9690c-3109-45cc-b593-fdf5ac7a3038",
   "metadata": {},
   "outputs": [],
   "source": [
    "sc.stop()"
   ]
  }
 ],
 "metadata": {
  "kernelspec": {
   "display_name": "Python 3",
   "language": "python",
   "name": "python3"
  },
  "language_info": {
   "codemirror_mode": {
    "name": "ipython",
    "version": 3
   },
   "file_extension": ".py",
   "mimetype": "text/x-python",
   "name": "python",
   "nbconvert_exporter": "python",
   "pygments_lexer": "ipython3",
   "version": "3.9.5"
  }
 },
 "nbformat": 4,
 "nbformat_minor": 5
}
