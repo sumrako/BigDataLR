{
 "cells": [
  {
   "cell_type": "code",
   "execution_count": 1,
   "id": "374bc204-d71b-4642-8e19-c294df141d5c",
   "metadata": {},
   "outputs": [
    {
     "data": {
      "text/html": [
       "\n",
       "        <div>\n",
       "            <p><b>SparkContext</b></p>\n",
       "\n",
       "            <p><a href=\"http://n1.maapr.xyz:4054\">Spark UI</a></p>\n",
       "\n",
       "            <dl>\n",
       "              <dt>Version</dt>\n",
       "                <dd><code>v3.1.2.0-eep-800</code></dd>\n",
       "              <dt>Master</dt>\n",
       "                <dd><code>local[1]</code></dd>\n",
       "              <dt>AppName</dt>\n",
       "                <dd><code>Lab1</code></dd>\n",
       "            </dl>\n",
       "        </div>\n",
       "        "
      ],
      "text/plain": [
       "<SparkContext master=local[1] appName=Lab1>"
      ]
     },
     "execution_count": 1,
     "metadata": {},
     "output_type": "execute_result"
    }
   ],
   "source": [
    "from pyspark import SparkContext, SparkConf\n",
    "app_name = \"Lab1\"\n",
    "conf = SparkConf().setAppName(app_name).setMaster('local[1]')\n",
    "sc = SparkContext(conf=conf)\n",
    "sc"
   ]
  },
  {
   "cell_type": "code",
   "execution_count": 10,
   "id": "3dd52afc-cfa2-4f5e-9fd0-92d1c1ae7a9e",
   "metadata": {},
   "outputs": [],
   "source": [
    "!hadoop fs -put datasets data"
   ]
  },
  {
   "cell_type": "code",
   "execution_count": 11,
   "id": "34d3e9ec-5d8f-4193-a197-92fb6ca4a08c",
   "metadata": {},
   "outputs": [
    {
     "name": "stdout",
     "output_type": "stream",
     "text": [
      "Found 4 items\n",
      "-rwxr-xr-x   3 sumrako sumrako   79500408 2023-12-18 17:56 data/nyctaxi.csv\n",
      "-rwxr-xr-x   3 sumrako sumrako       5647 2023-12-18 17:56 data/stations.csv\n",
      "-rwxr-xr-x   3 sumrako sumrako   80208831 2023-12-18 17:56 data/trips.csv\n",
      "-rwxr-xr-x   3 sumrako sumrako    5315699 2023-12-18 17:56 data/warandsociety.txt\n"
     ]
    }
   ],
   "source": [
    "!hadoop fs -ls data"
   ]
  },
  {
   "cell_type": "code",
   "execution_count": 12,
   "id": "5f175809-e6e4-45f2-ba67-f2acfc552a56",
   "metadata": {},
   "outputs": [],
   "source": [
    "from typing import NamedTuple\n",
    "from datetime import datetime\n",
    "from functools import reduce"
   ]
  },
  {
   "cell_type": "code",
   "execution_count": 13,
   "id": "0b15ac39-d4b4-44c9-bf17-cbeefe2e65ab",
   "metadata": {},
   "outputs": [],
   "source": [
    "def initStation(stations):\n",
    "    class Station(NamedTuple):\n",
    "        station_id: int\n",
    "        name: str\n",
    "        lat: float\n",
    "        long: float\n",
    "        dockcount: int\n",
    "        landmark: str\n",
    "        installation: str\n",
    "    \n",
    "    for station in stations:\n",
    "        yield Station(\n",
    "            station_id = int(station[0]),\n",
    "            name = station[1],\n",
    "            lat = float(station[2]),\n",
    "            long = float(station[3]),\n",
    "            dockcount = int(station[4]),\n",
    "            landmark = station[5],\n",
    "            installation = datetime.strptime(station[6], '%m/%d/%Y')\n",
    "        )\n",
    "\n",
    "def initTrip(trips):\n",
    "    class Trip(NamedTuple):\n",
    "        trip_id: int\n",
    "        duration: int\n",
    "        start_date: datetime\n",
    "        start_station_name: str\n",
    "        start_station_id: int\n",
    "        end_date: datetime\n",
    "        end_station_name: str\n",
    "        end_station_id: int\n",
    "        bike_id: int\n",
    "        subscription_type: str\n",
    "        zip_code: str\n",
    "        \n",
    "    for trip in trips:\n",
    "        try:\n",
    "            yield Trip(                             \n",
    "             trip_id = int(trip[0]),\n",
    "             duration = int(trip[1]),\n",
    "             start_date = datetime.strptime(trip[2], '%m/%d/%Y %H:%M'),\n",
    "             start_station_name = trip[3],\n",
    "             start_station_id = int(trip[4]),\n",
    "             end_date = datetime.strptime(trip[5], '%m/%d/%Y %H:%M'),\n",
    "             end_station_name = trip[6],\n",
    "             end_station_id = trip[7],\n",
    "             bike_id = int(trip[8]),\n",
    "             subscription_type = trip[9],\n",
    "             zip_code = trip[10]\n",
    "            ) \n",
    "        except:\n",
    "            pass"
   ]
  },
  {
   "cell_type": "code",
   "execution_count": 14,
   "id": "e231247c-5b32-451b-b575-bf9409304563",
   "metadata": {},
   "outputs": [],
   "source": [
    "def GetDataFromTable(data): # метод, вовзрающий только данные, без названия столбцов\n",
    "    columns = data.first()\n",
    "    table = data.filter(lambda row: row != columns)\\\n",
    "                .map(lambda row: row.split(\",\"))\n",
    "    return columns, table"
   ]
  },
  {
   "cell_type": "code",
   "execution_count": 29,
   "id": "ec1d3c5c-671b-40cf-99a7-b5fb64f2be85",
   "metadata": {},
   "outputs": [],
   "source": [
    "trip_data = sc.textFile(\"data/trips.csv\")\n",
    "station_data = sc.textFile(\"data/stations.csv\")"
   ]
  },
  {
   "cell_type": "code",
   "execution_count": 23,
   "id": "a39a742d-ebf5-44d1-9f1c-987953df5ece",
   "metadata": {},
   "outputs": [
    {
     "name": "stdout",
     "output_type": "stream",
     "text": [
      "id,duration,start_date,start_station_name,start_station_id,end_date,end_station_name,end_station_id,bike_id,subscription_type,zip_code\n",
      "4576,63,,South Van Ness at Market,66,8/29/2013 14:14,South Van Ness at Market,66,520,Subscriber,94127\n",
      "4607,,8/29/2013 14:42,San Jose City Hall,10,8/29/2013 14:43,San Jose City Hall,10,661,Subscriber,95138\n",
      "4130,71,8/29/2013 10:16,Mountain View City Hall,27,8/29/2013 10:17,Mountain View City Hall,27,48,Subscriber,97214\n",
      "4251,77,8/29/2013 11:29,San Jose City Hall,10,8/29/2013 11:30,San Jose City Hall,10,26,Subscriber,95060\n",
      "4299,83,8/29/2013 12:02,South Van Ness at Market,66,8/29/2013 12:04,Market at 10th,67,319,Subscriber,94103\n",
      "4927,103,8/29/2013 18:54,Golden Gate at Polk,59,8/29/2013 18:56,Golden Gate at Polk,59,527,Subscriber,94109\n",
      "4500,109,8/29/2013 13:25,Santa Clara at Almaden,4,8/29/2013 13:27,Adobe on Almaden,5,679,Subscriber,95112\n",
      "4563,111,8/29/2013 14:02,San Salvador at 1st,8,8/29/2013 14:04,San Salvador at 1st,8,687,Subscriber,95112\n",
      "4760,113,8/29/2013 17:01,South Van Ness at Market,66,8/29/2013 17:03,South Van Ness at Market,66,553,Subscriber,94103\n"
     ]
    }
   ],
   "source": [
    "!head datasets/trips.csv"
   ]
  },
  {
   "cell_type": "code",
   "execution_count": 30,
   "id": "cfcdce53-b841-4c65-8039-cf1b7d41a8de",
   "metadata": {},
   "outputs": [
    {
     "data": {
      "text/plain": [
       "'id,duration,start_date,start_station_name,start_station_id,end_date,end_station_name,end_station_id,bike_id,subscription_type,zip_code'"
      ]
     },
     "execution_count": 30,
     "metadata": {},
     "output_type": "execute_result"
    }
   ],
   "source": [
    "trip_data.first()"
   ]
  },
  {
   "cell_type": "code",
   "execution_count": 33,
   "id": "5d9b9e38-a3c3-4c5e-a22e-dd6f27960ad6",
   "metadata": {},
   "outputs": [],
   "source": [
    "trip_header = trip_data.first()\n",
    "station_header = station_data.first()"
   ]
  },
  {
   "cell_type": "code",
   "execution_count": 34,
   "id": "1d0feac4-6d3a-47eb-b987-7e687100db63",
   "metadata": {},
   "outputs": [],
   "source": [
    "trips = trip_data.filter(lambda x: x != trip_header).map(lambda x: x.split(\",\"))\n",
    "stations = station_data.filter(lambda x: x != station_header).map(lambda x: x.split(\",\"))"
   ]
  },
  {
   "cell_type": "code",
   "execution_count": 35,
   "id": "41350c2e-1ad7-49ec-acfa-6bf44c0be19a",
   "metadata": {},
   "outputs": [
    {
     "data": {
      "text/plain": [
       "[['4576',\n",
       "  '63',\n",
       "  '',\n",
       "  'South Van Ness at Market',\n",
       "  '66',\n",
       "  '8/29/2013 14:14',\n",
       "  'South Van Ness at Market',\n",
       "  '66',\n",
       "  '520',\n",
       "  'Subscriber',\n",
       "  '94127'],\n",
       " ['4607',\n",
       "  '',\n",
       "  '8/29/2013 14:42',\n",
       "  'San Jose City Hall',\n",
       "  '10',\n",
       "  '8/29/2013 14:43',\n",
       "  'San Jose City Hall',\n",
       "  '10',\n",
       "  '661',\n",
       "  'Subscriber',\n",
       "  '95138'],\n",
       " ['4130',\n",
       "  '71',\n",
       "  '8/29/2013 10:16',\n",
       "  'Mountain View City Hall',\n",
       "  '27',\n",
       "  '8/29/2013 10:17',\n",
       "  'Mountain View City Hall',\n",
       "  '27',\n",
       "  '48',\n",
       "  'Subscriber',\n",
       "  '97214']]"
      ]
     },
     "execution_count": 35,
     "metadata": {},
     "output_type": "execute_result"
    }
   ],
   "source": [
    "trips.take(3)"
   ]
  },
  {
   "cell_type": "code",
   "execution_count": 36,
   "id": "2cce6934-9e60-4db2-a060-adf21ff4a52c",
   "metadata": {},
   "outputs": [],
   "source": [
    "stations_ = stations.mapPartitions(initStation)"
   ]
  },
  {
   "cell_type": "code",
   "execution_count": 37,
   "id": "fabe1a83-2e43-4304-bee1-fe2330bd9e80",
   "metadata": {},
   "outputs": [
    {
     "data": {
      "text/plain": [
       "Station(station_id=2, name='San Jose Diridon Caltrain Station', lat=37.329732, long=-121.90178200000001, dockcount=27, landmark='San Jose', installation=datetime.datetime(2013, 8, 6, 0, 0))"
      ]
     },
     "execution_count": 37,
     "metadata": {},
     "output_type": "execute_result"
    }
   ],
   "source": [
    "stations_.first()"
   ]
  },
  {
   "cell_type": "code",
   "execution_count": 38,
   "id": "f23090ed-899b-4cc3-9846-d56dc8363978",
   "metadata": {},
   "outputs": [],
   "source": [
    "trips_= trips.mapPartitions(initTrip)"
   ]
  },
  {
   "cell_type": "code",
   "execution_count": 39,
   "id": "9524fef5-e089-4b54-84c8-8d8532b21035",
   "metadata": {},
   "outputs": [
    {
     "data": {
      "text/plain": [
       "Trip(trip_id=4130, duration=71, start_date=datetime.datetime(2013, 8, 29, 10, 16), start_station_name='Mountain View City Hall', start_station_id=27, end_date=datetime.datetime(2013, 8, 29, 10, 17), end_station_name='Mountain View City Hall', end_station_id='27', bike_id=48, subscription_type='Subscriber', zip_code='97214')"
      ]
     },
     "execution_count": 39,
     "metadata": {},
     "output_type": "execute_result"
    }
   ],
   "source": [
    "trips_.first()"
   ]
  },
  {
   "cell_type": "markdown",
   "id": "ab318358-bc4f-46d5-a565-c674fe386d3a",
   "metadata": {},
   "source": [
    "# Задание 1. Найти велосипед с максимальным временем пробега"
   ]
  },
  {
   "cell_type": "code",
   "execution_count": 40,
   "id": "0467a3db-a847-49eb-b55d-a92ab1cc26f9",
   "metadata": {},
   "outputs": [
    {
     "data": {
      "text/plain": [
       "535"
      ]
     },
     "execution_count": 40,
     "metadata": {},
     "output_type": "execute_result"
    }
   ],
   "source": [
    "bike_max_mileage = trips_.keyBy(lambda x: x.bike_id)\n",
    "bike_duration = bike_max_mileage.mapValues(lambda x: x.duration).reduceByKey(lambda x1, x2: x1 + x2)\n",
    "bike_duration_top = bike_duration.top(1, key=lambda x: x[1])[0][0]\n",
    "bike_duration_top"
   ]
  },
  {
   "cell_type": "markdown",
   "id": "1389db9c-60ef-4f0e-97b8-e380118ab849",
   "metadata": {},
   "source": [
    "# Задание 2. Найти наибольшее геодезическое расстояние между станциями"
   ]
  },
  {
   "cell_type": "code",
   "execution_count": 41,
   "id": "f2b09cd2-d093-4ac5-a297-38a6b2fff667",
   "metadata": {},
   "outputs": [],
   "source": [
    "trips_stations = trips_.filter(\n",
    "    lambda trip: trip.start_station_id != trip.end_station_id\n",
    ").keyBy(\n",
    "    lambda trip: (trip.start_station_id, trip.end_station_id)\n",
    ").mapValues(lambda trip: trip.duration)"
   ]
  },
  {
   "cell_type": "code",
   "execution_count": 42,
   "id": "30f632ba-c7f2-466b-b6da-c34e9212f1cd",
   "metadata": {},
   "outputs": [],
   "source": [
    "query = trips_stations.aggregateByKey(\n",
    "    (0.0, 0.0),\n",
    "    lambda acc, value: (acc[0] + value, acc[1] + 1),\n",
    "    lambda acc1, acc2: (acc1[0] + acc2[0], acc1[1] + acc2[1]),\n",
    ").mapValues(lambda values: values[0] / values[1])"
   ]
  },
  {
   "cell_type": "code",
   "execution_count": 43,
   "id": "2e4de135-d8b3-4d92-9291-4c9ebd11e40a",
   "metadata": {},
   "outputs": [
    {
     "data": {
      "text/plain": [
       "[(229914.0, (26, '16')),\n",
       " (179212.5, (32, '63')),\n",
       " (169308.0, (80, '36')),\n",
       " (156461.03603603604, (66, '62')),\n",
       " (101207.5, (28, '2'))]"
      ]
     },
     "execution_count": 43,
     "metadata": {},
     "output_type": "execute_result"
    }
   ],
   "source": [
    "query.map(lambda x: x[::-1]).top(5)"
   ]
  },
  {
   "cell_type": "markdown",
   "id": "5a5a0b68-0d67-4409-8da0-7593c2ccb4a4",
   "metadata": {},
   "source": [
    "# Задание 3. Найти путь велосипеда с максимальным временем пробега через станции"
   ]
  },
  {
   "cell_type": "code",
   "execution_count": 45,
   "id": "f5efd55a-d809-4133-ad4b-ccf483e71329",
   "metadata": {},
   "outputs": [
    {
     "data": {
      "text/plain": [
       "('Post at Kearney', 'San Francisco Caltrain (Townsend at 4th)')"
      ]
     },
     "execution_count": 45,
     "metadata": {},
     "output_type": "execute_result"
    }
   ],
   "source": [
    "bike_path = trips_.filter(lambda x: x.bike_id == bike_duration_top).sortBy(lambda x: x.start_date).map(lambda x: (x.start_station_name, x.end_station_name))\n",
    "\n",
    "bike_path.first()"
   ]
  },
  {
   "cell_type": "markdown",
   "id": "ce94841b-e3bf-4d7f-9701-57ae6041de9a",
   "metadata": {},
   "source": [
    "# Задание 4. Найти количество велосипедов в системе"
   ]
  },
  {
   "cell_type": "code",
   "execution_count": 47,
   "id": "5c0a9432-37df-49dc-a5ee-1c8c501e2da0",
   "metadata": {},
   "outputs": [
    {
     "data": {
      "text/plain": [
       "700"
      ]
     },
     "execution_count": 47,
     "metadata": {},
     "output_type": "execute_result"
    }
   ],
   "source": [
    "count_bikes = trips_.map(lambda x: x.bike_id).distinct().count()\n",
    "\n",
    "count_bikes"
   ]
  },
  {
   "cell_type": "markdown",
   "id": "cc7aa779-3aab-4d80-8825-083f50ad1ee9",
   "metadata": {},
   "source": [
    "# Задание 5. Найти пользователей потративших на поездки более 3 часов"
   ]
  },
  {
   "cell_type": "code",
   "execution_count": 48,
   "id": "0086bf65-ba9d-42ed-a921-0938fe30b663",
   "metadata": {},
   "outputs": [
    {
     "data": {
      "text/plain": [
       "['94536',\n",
       " '72150',\n",
       " '58553',\n",
       " '94301',\n",
       " '94118',\n",
       " '94111',\n",
       " '94039',\n",
       " '94133',\n",
       " '94538',\n",
       " '95112']"
      ]
     },
     "execution_count": 48,
     "metadata": {},
     "output_type": "execute_result"
    }
   ],
   "source": [
    "users = trips_.filter(lambda x: x.duration > (3 * 60 * 60)).map(lambda x: x.zip_code).filter(lambda x: x != \"\").distinct()\n",
    "\n",
    "users.take(10)"
   ]
  },
  {
   "cell_type": "code",
   "execution_count": 50,
   "id": "e69843e7-adb4-4b6c-aeda-b066c32b849b",
   "metadata": {},
   "outputs": [],
   "source": [
    "sc.stop()"
   ]
  },
  {
   "cell_type": "code",
   "execution_count": null,
   "id": "dec3411d-be96-4d6a-98ba-fcef0211cafb",
   "metadata": {},
   "outputs": [],
   "source": []
  }
 ],
 "metadata": {
  "kernelspec": {
   "display_name": "Python 3",
   "language": "python",
   "name": "python3"
  },
  "language_info": {
   "codemirror_mode": {
    "name": "ipython",
    "version": 3
   },
   "file_extension": ".py",
   "mimetype": "text/x-python",
   "name": "python",
   "nbconvert_exporter": "python",
   "pygments_lexer": "ipython3",
   "version": "3.9.5"
  }
 },
 "nbformat": 4,
 "nbformat_minor": 5
}
